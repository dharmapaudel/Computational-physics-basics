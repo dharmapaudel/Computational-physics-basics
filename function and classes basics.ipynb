{
 "cells": [
  {
   "cell_type": "markdown",
   "metadata": {},
   "source": [
    "# Functions and Classes\n",
    "\n",
    "Function and Class are required for object oriented programming. Functions, once created, can be implemented multiple times while Class is more useful for both data encaptulation and functions."
   ]
  },
  {
   "cell_type": "code",
   "execution_count": 6,
   "metadata": {},
   "outputs": [],
   "source": [
    "import numpy as np\n",
    "import random as random"
   ]
  },
  {
   "cell_type": "markdown",
   "metadata": {},
   "source": [
    "### Function"
   ]
  },
  {
   "cell_type": "code",
   "execution_count": 2,
   "metadata": {},
   "outputs": [
    {
     "data": {
      "text/plain": [
       "5"
      ]
     },
     "execution_count": 2,
     "metadata": {},
     "output_type": "execute_result"
    }
   ],
   "source": [
    "sum([2,3])"
   ]
  },
  {
   "cell_type": "code",
   "execution_count": 4,
   "metadata": {},
   "outputs": [
    {
     "name": "stdout",
     "output_type": "stream",
     "text": [
      "Your message is : 0\n",
      "Your message is : 1\n",
      "Your message is : 2\n",
      "Your message is : 3\n",
      "Your message is : 4\n",
      "Your message is : 5\n",
      "Your message is : 6\n",
      "Your message is : 7\n",
      "Your message is : 8\n",
      "Your message is : 9\n"
     ]
    }
   ],
   "source": [
    "for i in range(10):\n",
    "    print(\"Your message is :\",i)"
   ]
  },
  {
   "cell_type": "code",
   "execution_count": 8,
   "metadata": {},
   "outputs": [],
   "source": [
    "#important function for the practise \n",
    "def dice(N):\n",
    "    roll = []\n",
    "    for r in range(N):\n",
    "        s = random.choice([1,2,3,4,5,6])\n",
    "        roll.append(s)\n",
    "    return roll"
   ]
  },
  {
   "cell_type": "code",
   "execution_count": 9,
   "metadata": {},
   "outputs": [
    {
     "name": "stdout",
     "output_type": "stream",
     "text": [
      "[4, 5, 5, 4, 2, 1, 6, 2, 6, 3, 6, 5, 5, 4, 4, 6, 3, 1, 3, 5, 5, 5, 4, 3, 1, 2, 2, 4, 4, 5, 1, 2, 3, 6, 4, 6, 5, 1, 3, 1, 4, 2, 6, 1, 3, 5, 2, 3, 4, 6, 1, 5, 5, 6, 1, 3, 1, 2, 6, 5, 5, 3, 1, 1, 3, 1, 6, 2, 2, 3, 2, 2, 6, 6, 4, 5, 1, 6, 4, 4, 4, 2, 3, 1, 4, 1, 5, 3, 5, 3, 2, 2, 2, 3, 6, 1, 3, 6, 5, 6]\n"
     ]
    }
   ],
   "source": [
    "print(dice(100))"
   ]
  },
  {
   "cell_type": "code",
   "execution_count": 10,
   "metadata": {},
   "outputs": [],
   "source": [
    "def grader(g):\n",
    "    if g >80:\n",
    "        return \"A\"\n",
    "    elif g<80 and g>60:\n",
    "        return \"B\"\n",
    "    else:\n",
    "        return \"C\""
   ]
  },
  {
   "cell_type": "code",
   "execution_count": 11,
   "metadata": {},
   "outputs": [
    {
     "data": {
      "text/plain": [
       "('A', 'C')"
      ]
     },
     "execution_count": 11,
     "metadata": {},
     "output_type": "execute_result"
    }
   ],
   "source": [
    "grader(95),grader(50)"
   ]
  },
  {
   "cell_type": "markdown",
   "metadata": {},
   "source": [
    "### Class Circle"
   ]
  },
  {
   "cell_type": "markdown",
   "metadata": {},
   "source": [
    "- Define a function which will take radious as input and provides area as output for a circle."
   ]
  },
  {
   "cell_type": "code",
   "execution_count": 9,
   "metadata": {},
   "outputs": [],
   "source": [
    "import numpy as np\n",
    "def circ(r):\n",
    "    A = np.pi*r**2\n",
    "    return A\n"
   ]
  },
  {
   "cell_type": "code",
   "execution_count": 10,
   "metadata": {},
   "outputs": [
    {
     "data": {
      "text/plain": [
       "28.274333882308138"
      ]
     },
     "execution_count": 10,
     "metadata": {},
     "output_type": "execute_result"
    }
   ],
   "source": [
    "circ(3)"
   ]
  },
  {
   "cell_type": "code",
   "execution_count": 15,
   "metadata": {},
   "outputs": [],
   "source": [
    "#conversion of radian in to degree\n",
    "from math import *\n",
    "theta = np.arange(0,7)\n",
    "#print(theta)\n",
    "def convert_rad_deg(theta):\n",
    "    R = 180*theta/pi\n",
    "    return R"
   ]
  },
  {
   "cell_type": "code",
   "execution_count": 17,
   "metadata": {},
   "outputs": [
    {
     "name": "stdout",
     "output_type": "stream",
     "text": [
      "171.88733853924697\n"
     ]
    }
   ],
   "source": [
    "d = convert_rad_deg(3)\n",
    "print(d)"
   ]
  },
  {
   "cell_type": "markdown",
   "metadata": {},
   "source": [
    "- Define a function which will take radious as input and provides circumference as output for a circle."
   ]
  },
  {
   "cell_type": "code",
   "execution_count": 26,
   "metadata": {},
   "outputs": [],
   "source": [
    "def circumference(r):\n",
    "    C = 2*np.pi*r\n",
    "    return C"
   ]
  },
  {
   "cell_type": "markdown",
   "metadata": {},
   "source": [
    "- Claculate the circumference of a sample circle of radius 10."
   ]
  },
  {
   "cell_type": "code",
   "execution_count": 27,
   "metadata": {},
   "outputs": [
    {
     "data": {
      "text/plain": [
       "62.83185307179586"
      ]
     },
     "execution_count": 27,
     "metadata": {},
     "output_type": "execute_result"
    }
   ],
   "source": [
    "circumference(10)"
   ]
  },
  {
   "cell_type": "markdown",
   "metadata": {},
   "source": [
    "- Lets build a class implementing above constants and functions"
   ]
  },
  {
   "cell_type": "code",
   "execution_count": 49,
   "metadata": {},
   "outputs": [],
   "source": [
    "\n",
    "class circle():\n",
    "    def __init__(self,r):\n",
    "        self.r = r\n",
    "    def area(self):\n",
    "        A = np.pi*self.r**2\n",
    "        return A\n",
    "    def circum(self):\n",
    "        C = 2 * pi*self.r\n",
    "        return C\n",
    "    "
   ]
  },
  {
   "cell_type": "markdown",
   "metadata": {},
   "source": [
    "- Test using examples. Circle object can be created by calling ```Circle(5)``` and function ```area()``` can be applied later ot together."
   ]
  },
  {
   "cell_type": "code",
   "execution_count": 54,
   "metadata": {},
   "outputs": [
    {
     "name": "stdout",
     "output_type": "stream",
     "text": [
      "The area is: 0.0 for  r =  0\n",
      "The area is: 3.141592653589793 for  r =  1\n",
      "The area is: 12.566370614359172 for  r =  2\n",
      "The area is: 28.274333882308138 for  r =  3\n",
      "The area is: 50.26548245743669 for  r =  4\n",
      "The area is: 78.53981633974483 for  r =  5\n",
      "The area is: 113.09733552923255 for  r =  6\n",
      "The area is: 153.93804002589985 for  r =  7\n",
      "The area is: 201.06192982974676 for  r =  8\n",
      "The area is: 254.46900494077323 for  r =  9\n"
     ]
    }
   ],
   "source": [
    "\n",
    "for r in range(0,10):\n",
    "    c = circle(r)\n",
    "    print(\"The area is:\" ,c.area(), \"for  r = \", r)\n",
    "    \n"
   ]
  },
  {
   "cell_type": "markdown",
   "metadata": {},
   "source": [
    "### Class Gravity"
   ]
  },
  {
   "cell_type": "markdown",
   "metadata": {},
   "source": [
    "- To create a function Gravity"
   ]
  },
  {
   "cell_type": "code",
   "execution_count": 59,
   "metadata": {},
   "outputs": [],
   "source": [
    "def gravity(m1,m2,d):\n",
    "    G = 6.67*10**(-11)\n",
    "    F = G*m1*m2/d**2\n",
    "    return F\n",
    "    "
   ]
  },
  {
   "cell_type": "code",
   "execution_count": 60,
   "metadata": {},
   "outputs": [
    {
     "data": {
      "text/plain": [
       "6.67e-11"
      ]
     },
     "execution_count": 60,
     "metadata": {},
     "output_type": "execute_result"
    }
   ],
   "source": [
    "F = gravity(1,1,1)\n",
    "F"
   ]
  },
  {
   "cell_type": "markdown",
   "metadata": {},
   "source": [
    "- Lets create a class ```Newton``` for Gravity calculation"
   ]
  },
  {
   "cell_type": "code",
   "execution_count": 80,
   "metadata": {},
   "outputs": [],
   "source": [
    "class Newton():\n",
    "     def __init__(self,G): #make constant along with self\n",
    "            self.G = G # this is required in class \n",
    "     def gravity(self,m1,m2,d): # make variable in the parenthesis along with self\n",
    "        F = self.G*m1*m2/d**2\n",
    "        return F"
   ]
  },
  {
   "cell_type": "code",
   "execution_count": 109,
   "metadata": {},
   "outputs": [
    {
     "data": {
      "text/plain": [
       "6.67"
      ]
     },
     "execution_count": 109,
     "metadata": {},
     "output_type": "execute_result"
    }
   ],
   "source": [
    "f = Newton(6.67)\n",
    "force = f.gravity(1,1,1)\n",
    "force"
   ]
  },
  {
   "cell_type": "markdown",
   "metadata": {},
   "source": [
    "### Class Projectile"
   ]
  },
  {
   "cell_type": "code",
   "execution_count": 83,
   "metadata": {},
   "outputs": [],
   "source": [
    "#let's create the projectile function at first\n",
    "from math import *\n",
    "def projectile(u,theta):\n",
    "    g = 9.8\n",
    "    T = 2*u*sin(pi*theta/180)/g #time of flight\n",
    "    h = u**2* (sin(theta*pi/180)**2)/2*g\n",
    "    R = u**2* sin(2*theta*pi/180)/g\n",
    "    return[T,h,R]"
   ]
  },
  {
   "cell_type": "code",
   "execution_count": 89,
   "metadata": {},
   "outputs": [
    {
     "data": {
      "text/plain": [
       "[141.42135623730948, 24499.999999999996, 1020.408163265306]"
      ]
     },
     "execution_count": 89,
     "metadata": {},
     "output_type": "execute_result"
    }
   ],
   "source": [
    "p= projectile(100,45)\n",
    "p"
   ]
  },
  {
   "cell_type": "code",
   "execution_count": 108,
   "metadata": {},
   "outputs": [],
   "source": [
    "class proj():\n",
    "    def __init__(self,g,pi):\n",
    "        self.g = g\n",
    "        self.pi = pi\n",
    "    def time(self,u, theta):\n",
    "        T = 2*u*sin(self.pi*theta/180)/self.g\n",
    "        return T\n",
    "    def height(self,u,theta):\n",
    "         h = u**2*(sin(theta*self.pi/180)**2)/2*self.g\n",
    "         return h\n",
    "    def Range (self,u,theta):\n",
    "         R = u**2* sin(2*theta*self.pi/180)/self.g\n",
    "         return R\n",
    "    "
   ]
  },
  {
   "cell_type": "code",
   "execution_count": 107,
   "metadata": {},
   "outputs": [
    {
     "data": {
      "text/plain": [
       "[10.199389849859232, 12238.73761929896, 883.4284076452492]"
      ]
     },
     "execution_count": 107,
     "metadata": {},
     "output_type": "execute_result"
    }
   ],
   "source": [
    "p = proj(9.8,3.14)\n",
    "value = [p.time(100,30),p.height(100,30),p.Range(100,30)]\n",
    "value"
   ]
  },
  {
   "cell_type": "markdown",
   "metadata": {},
   "source": [
    "### References:\n",
    "1. https://docs.python.org/3/tutorial/index.html\n",
    "2. https://github.com/npshub/python-fundamentals "
   ]
  }
 ],
 "metadata": {
  "kernelspec": {
   "display_name": "Python 3",
   "language": "python",
   "name": "python3"
  },
  "language_info": {
   "codemirror_mode": {
    "name": "ipython",
    "version": 3
   },
   "file_extension": ".py",
   "mimetype": "text/x-python",
   "name": "python",
   "nbconvert_exporter": "python",
   "pygments_lexer": "ipython3",
   "version": "3.7.6"
  }
 },
 "nbformat": 4,
 "nbformat_minor": 2
}
